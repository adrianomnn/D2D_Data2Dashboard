{
  "cells": [
    {
      "cell_type": "code",
      "execution_count": 23,
      "metadata": {},
      "outputs": [],
      "source": [
        "import json\n",
        "import pandas as pd\n",
        "from deepeval.test_case import LLMTestCase\n",
        "from deepeval.test_case import LLMTestCaseParams\n",
        "from deepeval.metrics import GEval\n",
        "from deepeval import assert_test\n",
        "\n",
        "# Load model outputs — each element is a JSON string\n",
        "with open(\"/Users/zhangran/Desktop/BP@UnitedStates/Code/D2D_Data2Dashboard/exp_result/exp01_d2insight_sys_stimhartnow_result.json\", \"r\") as f:\n",
        "    output_sys = json.load(f)\n",
        "\n",
        "# Load model outputs — each element is a JSON string\n",
        "with open(\"/Users/zhangran/Desktop/BP@UnitedStates/Code/D2D_Data2Dashboard/exp_result/exp01_d2insight_gpt4o_domain_stimhartnow_result.json\", \"r\") as f:\n",
        "    output_gpt4o = json.load(f)\n",
        "\n",
        "insight_sys = (\n",
        "    output_sys[\"analysis\"][\"analysis\"][\"descriptive\"] + \" \" +\n",
        "    output_sys[\"analysis\"][\"analysis\"][\"predictive\"] + \" \" +\n",
        "    output_sys[\"analysis\"][\"analysis\"][\"domain_related\"]\n",
        ")\n",
        "\n",
        "insight_gpt4o = (\n",
        "    output_gpt4o[\"insights\"][\"customer_retention\"][\"insight\"] + \" \" +\n",
        "    output_gpt4o[\"insights\"][\"acquisition_channels\"][\"insight\"] + \" \" +\n",
        "    output_gpt4o[\"insights\"][\"customer_demographics\"][\"insight\"] + \" \" +\n",
        "    output_gpt4o[\"insights\"][\"financial_analysis\"][\"insight\"] + \" \" +\n",
        "    output_gpt4o[\"insights\"][\"contract_analysis\"][\"insight\"] + \" \" +\n",
        "    output_gpt4o[\"insights\"][\"premium_customers\"][\"insight\"]\n",
        ")\n",
        "\n",
        "# 3. Create a test case without reference output\n",
        "test_case_sys = LLMTestCase(\n",
        "    input=\"Customer Relationship Management dataset with features like acquisition channel, retention, churn, periods active, etc.\",\n",
        "    actual_output=insight_sys,\n",
        ")\n",
        "\n",
        "test_case_gpt4o = LLMTestCase(\n",
        "    input=\"Customer Relationship Management dataset with features like acquisition channel, retention, churn, periods active, etc.\",\n",
        "    actual_output=insight_gpt4o,\n",
        ")"
      ]
    },
    {
      "cell_type": "code",
      "execution_count": 24,
      "metadata": {},
      "outputs": [],
      "source": [
        "# 4. Define GEval metrics (self-evaluation — no expected_output)\n",
        "insightful = GEval(\n",
        "    name=\"Insightful\",\n",
        "    criteria=\"Does the output offer a deep or non-obvious understanding? Does it connect patterns or trends that aren't immediately apparent?\",\n",
        "    evaluation_params=[LLMTestCaseParams.INPUT, LLMTestCaseParams.ACTUAL_OUTPUT],\n",
        ")\n",
        "\n",
        "novelty = GEval(\n",
        "    name=\"Novelty\",\n",
        "    criteria=\"Does the output go beyond generic interpretation? Would it surprise or teach something new to a domain expert?\",\n",
        "    evaluation_params=[LLMTestCaseParams.INPUT, LLMTestCaseParams.ACTUAL_OUTPUT],\n",
        ")\n",
        "\n",
        "domain_relevance = GEval(\n",
        "    name=\"Depth\",\n",
        "    criteria=\"Does the analysis demonstrate deep domain expertise in the specific domain?\",\n",
        "    evaluation_params=[LLMTestCaseParams.INPUT, LLMTestCaseParams.ACTUAL_OUTPUT],\n",
        ")"
      ]
    },
    {
      "cell_type": "code",
      "execution_count": 25,
      "metadata": {},
      "outputs": [],
      "source": [
        "# # 5. Run evaluation (assertion-based print)\n",
        "# print(\"\\n=== Insight Evaluation Report ===\")\n",
        "# assert_test(test_case_sys, [insightful, novelty, domain_relevance])"
      ]
    },
    {
      "cell_type": "code",
      "execution_count": null,
      "metadata": {},
      "outputs": [
        {
          "data": {
            "text/html": [
              "<pre style=\"white-space:pre;overflow-x:auto;line-height:normal;font-family:Menlo,'DejaVu Sans Mono',consolas,'Courier New',monospace\">✨ You're running DeepEval's latest <span style=\"color: #6a00ff; text-decoration-color: #6a00ff\">Insightful </span><span style=\"color: #6a00ff; text-decoration-color: #6a00ff; font-weight: bold\">(</span><span style=\"color: #6a00ff; text-decoration-color: #6a00ff\">GEval</span><span style=\"color: #6a00ff; text-decoration-color: #6a00ff; font-weight: bold\">)</span><span style=\"color: #6a00ff; text-decoration-color: #6a00ff\"> Metric</span>! <span style=\"color: #374151; text-decoration-color: #374151; font-weight: bold\">(</span><span style=\"color: #374151; text-decoration-color: #374151\">using gpt-4o, </span><span style=\"color: #374151; text-decoration-color: #374151\">strict</span><span style=\"color: #374151; text-decoration-color: #374151\">=</span><span style=\"color: #374151; text-decoration-color: #374151; font-style: italic\">False</span><span style=\"color: #374151; text-decoration-color: #374151\">, </span><span style=\"color: #374151; text-decoration-color: #374151\">async_mode</span><span style=\"color: #374151; text-decoration-color: #374151\">=</span><span style=\"color: #374151; text-decoration-color: #374151; font-style: italic\">True</span><span style=\"color: #374151; text-decoration-color: #374151; font-weight: bold\">)</span><span style=\"color: #374151; text-decoration-color: #374151\">...</span>\n",
              "</pre>\n"
            ],
            "text/plain": [
              "✨ You're running DeepEval's latest \u001b[38;2;106;0;255mInsightful \u001b[0m\u001b[1;38;2;106;0;255m(\u001b[0m\u001b[38;2;106;0;255mGEval\u001b[0m\u001b[1;38;2;106;0;255m)\u001b[0m\u001b[38;2;106;0;255m Metric\u001b[0m! \u001b[1;38;2;55;65;81m(\u001b[0m\u001b[38;2;55;65;81musing gpt-4o, \u001b[0m\u001b[38;2;55;65;81mstrict\u001b[0m\u001b[38;2;55;65;81m=\u001b[0m\u001b[3;38;2;55;65;81mFalse\u001b[0m\u001b[38;2;55;65;81m, \u001b[0m\u001b[38;2;55;65;81masync_mode\u001b[0m\u001b[38;2;55;65;81m=\u001b[0m\u001b[3;38;2;55;65;81mTrue\u001b[0m\u001b[1;38;2;55;65;81m)\u001b[0m\u001b[38;2;55;65;81m...\u001b[0m\n"
            ]
          },
          "metadata": {},
          "output_type": "display_data"
        },
        {
          "data": {
            "text/html": [
              "<pre style=\"white-space:pre;overflow-x:auto;line-height:normal;font-family:Menlo,'DejaVu Sans Mono',consolas,'Courier New',monospace\">✨ You're running DeepEval's latest <span style=\"color: #6a00ff; text-decoration-color: #6a00ff\">Novelty </span><span style=\"color: #6a00ff; text-decoration-color: #6a00ff; font-weight: bold\">(</span><span style=\"color: #6a00ff; text-decoration-color: #6a00ff\">GEval</span><span style=\"color: #6a00ff; text-decoration-color: #6a00ff; font-weight: bold\">)</span><span style=\"color: #6a00ff; text-decoration-color: #6a00ff\"> Metric</span>! <span style=\"color: #374151; text-decoration-color: #374151; font-weight: bold\">(</span><span style=\"color: #374151; text-decoration-color: #374151\">using gpt-4o, </span><span style=\"color: #374151; text-decoration-color: #374151\">strict</span><span style=\"color: #374151; text-decoration-color: #374151\">=</span><span style=\"color: #374151; text-decoration-color: #374151; font-style: italic\">False</span><span style=\"color: #374151; text-decoration-color: #374151\">, </span><span style=\"color: #374151; text-decoration-color: #374151\">async_mode</span><span style=\"color: #374151; text-decoration-color: #374151\">=</span><span style=\"color: #374151; text-decoration-color: #374151; font-style: italic\">True</span><span style=\"color: #374151; text-decoration-color: #374151; font-weight: bold\">)</span><span style=\"color: #374151; text-decoration-color: #374151\">...</span>\n",
              "</pre>\n"
            ],
            "text/plain": [
              "✨ You're running DeepEval's latest \u001b[38;2;106;0;255mNovelty \u001b[0m\u001b[1;38;2;106;0;255m(\u001b[0m\u001b[38;2;106;0;255mGEval\u001b[0m\u001b[1;38;2;106;0;255m)\u001b[0m\u001b[38;2;106;0;255m Metric\u001b[0m! \u001b[1;38;2;55;65;81m(\u001b[0m\u001b[38;2;55;65;81musing gpt-4o, \u001b[0m\u001b[38;2;55;65;81mstrict\u001b[0m\u001b[38;2;55;65;81m=\u001b[0m\u001b[3;38;2;55;65;81mFalse\u001b[0m\u001b[38;2;55;65;81m, \u001b[0m\u001b[38;2;55;65;81masync_mode\u001b[0m\u001b[38;2;55;65;81m=\u001b[0m\u001b[3;38;2;55;65;81mTrue\u001b[0m\u001b[1;38;2;55;65;81m)\u001b[0m\u001b[38;2;55;65;81m...\u001b[0m\n"
            ]
          },
          "metadata": {},
          "output_type": "display_data"
        },
        {
          "data": {
            "text/html": [
              "<pre style=\"white-space:pre;overflow-x:auto;line-height:normal;font-family:Menlo,'DejaVu Sans Mono',consolas,'Courier New',monospace\">✨ You're running DeepEval's latest <span style=\"color: #6a00ff; text-decoration-color: #6a00ff\">Depth </span><span style=\"color: #6a00ff; text-decoration-color: #6a00ff; font-weight: bold\">(</span><span style=\"color: #6a00ff; text-decoration-color: #6a00ff\">GEval</span><span style=\"color: #6a00ff; text-decoration-color: #6a00ff; font-weight: bold\">)</span><span style=\"color: #6a00ff; text-decoration-color: #6a00ff\"> Metric</span>! <span style=\"color: #374151; text-decoration-color: #374151; font-weight: bold\">(</span><span style=\"color: #374151; text-decoration-color: #374151\">using gpt-4o, </span><span style=\"color: #374151; text-decoration-color: #374151\">strict</span><span style=\"color: #374151; text-decoration-color: #374151\">=</span><span style=\"color: #374151; text-decoration-color: #374151; font-style: italic\">False</span><span style=\"color: #374151; text-decoration-color: #374151\">, </span><span style=\"color: #374151; text-decoration-color: #374151\">async_mode</span><span style=\"color: #374151; text-decoration-color: #374151\">=</span><span style=\"color: #374151; text-decoration-color: #374151; font-style: italic\">True</span><span style=\"color: #374151; text-decoration-color: #374151; font-weight: bold\">)</span><span style=\"color: #374151; text-decoration-color: #374151\">...</span>\n",
              "</pre>\n"
            ],
            "text/plain": [
              "✨ You're running DeepEval's latest \u001b[38;2;106;0;255mDepth \u001b[0m\u001b[1;38;2;106;0;255m(\u001b[0m\u001b[38;2;106;0;255mGEval\u001b[0m\u001b[1;38;2;106;0;255m)\u001b[0m\u001b[38;2;106;0;255m Metric\u001b[0m! \u001b[1;38;2;55;65;81m(\u001b[0m\u001b[38;2;55;65;81musing gpt-4o, \u001b[0m\u001b[38;2;55;65;81mstrict\u001b[0m\u001b[38;2;55;65;81m=\u001b[0m\u001b[3;38;2;55;65;81mFalse\u001b[0m\u001b[38;2;55;65;81m, \u001b[0m\u001b[38;2;55;65;81masync_mode\u001b[0m\u001b[38;2;55;65;81m=\u001b[0m\u001b[3;38;2;55;65;81mTrue\u001b[0m\u001b[1;38;2;55;65;81m)\u001b[0m\u001b[38;2;55;65;81m...\u001b[0m\n"
            ]
          },
          "metadata": {},
          "output_type": "display_data"
        },
        {
          "name": "stderr",
          "output_type": "stream",
          "text": [
            "Evaluating 1 test case(s) in parallel: |██████████|100% (1/1) [Time Taken: 00:05,  5.34s/test case]"
          ]
        },
        {
          "name": "stdout",
          "output_type": "stream",
          "text": [
            "\n",
            "======================================================================\n",
            "\n",
            "Metrics Summary\n",
            "\n",
            "  - ✅ Insightful (GEval) (score: 0.8991645704395317, threshold: 0.5, strict: False, evaluation model: gpt-4o, reason: The output provides deeper insights by analyzing churn rates, customer value profiles, and acquisition strategies, which are not immediately obvious from the input. It connects patterns between acquisition channels, customer demographics, and retention likelihood, revealing relationships not directly mentioned in the input. The output challenges assumptions by highlighting the importance of internal channels and premium status in revenue contribution, offering a unique perspective on CRM strategies., error: None)\n",
            "  - ✅ Novelty (GEval) (score: 0.577571325829566, threshold: 0.5, strict: False, evaluation model: gpt-4o, reason: The output provides a detailed analysis of the dataset, highlighting the importance of acquisition channels, customer demographics, and retention strategies. However, it largely reiterates common CRM insights without offering novel perspectives or surprising information that would be unexpected to a domain expert., error: None)\n",
            "  - ✅ Depth (GEval) (score: 0.8911249961961424, threshold: 0.5, strict: False, evaluation model: gpt-4o, reason: Both Input and Actual Output demonstrate a deep understanding of CRM terminology, such as 'acquisition channel' and 'churn'. The Actual Output aligns with established CRM practices by discussing customer segmentation and retention strategies. It provides detailed examples, like the correlation between 'Premium (Y/N)' status and revenue, reflecting domain knowledge. The logical structure is coherent, effectively conveying complex CRM concepts., error: None)\n",
            "\n",
            "For test case:\n",
            "\n",
            "  - input: Customer Relationship Management dataset with features like acquisition channel, retention, churn, periods active, etc.\n",
            "  - actual output: The dataset provides a comprehensive view of customer interactions and financial metrics within a CRM framework. Notably, the 'Current Customer (Y/N)' column indicates a significant churn rate, with many customers no longer active. The 'Revenue, Total' and 'Expected CLV' columns show a wide variance, suggesting diverse customer value profiles. The 'Acquisition Channel' and 'Region' columns highlight the importance of understanding customer demographics and acquisition strategies, with 'External' channels and 'Southeast' regions being prominent. Analyzing the 'Expected CLV' alongside 'Periods Active' and 'Acquisition Channel' can help predict future customer value and retention likelihood. Customers acquired through 'Internal' channels and with longer 'Periods Active' tend to have higher CLV, indicating a potential focus area for retention strategies. Additionally, the correlation between 'Premium (Y/N)' status and 'Revenue, Total' suggests that premium customers contribute significantly to revenue, warranting targeted engagement strategies. In the CRM domain, understanding customer segmentation and retention is crucial. The dataset underscores the importance of tailoring strategies based on 'Sector' and 'Region' to enhance customer experience and loyalty. The high variance in 'Expected CLV' highlights the need for personalized marketing efforts to maximize customer lifetime value. Furthermore, leveraging insights from 'Referred (Y/N)' and 'Acquisition Channel' can optimize acquisition costs and improve customer satisfaction, aligning with CRM best practices.\n",
            "  - expected output: None\n",
            "  - context: None\n",
            "  - retrieval context: None\n",
            "\n",
            "======================================================================\n",
            "\n",
            "Overall Metric Pass Rates\n",
            "\n",
            "Insightful (GEval): 100.00% pass rate\n",
            "Novelty (GEval): 100.00% pass rate\n",
            "Depth (GEval): 100.00% pass rate\n",
            "\n",
            "======================================================================\n",
            "\n"
          ]
        },
        {
          "name": "stderr",
          "output_type": "stream",
          "text": [
            "\n"
          ]
        },
        {
          "data": {
            "text/html": [
              "<pre style=\"white-space:pre;overflow-x:auto;line-height:normal;font-family:Menlo,'DejaVu Sans Mono',consolas,'Courier New',monospace\">\n",
              "<span style=\"color: #05f58d; text-decoration-color: #05f58d\">✓</span> Tests finished 🎉! Run <span style=\"color: #008000; text-decoration-color: #008000; font-weight: bold\">'deepeval login'</span> to save and analyze evaluation results on Confident AI.\n",
              " \n",
              "✨👀 Looking for a place for your LLM test data to live 🏡❤️ ? Use <span style=\"color: #6a00ff; text-decoration-color: #6a00ff\">Confident AI</span> to get &amp; share testing reports, \n",
              "experiment with models/prompts, and catch regressions for your LLM system. Just run <span style=\"color: #008080; text-decoration-color: #008080\">'deepeval login'</span> in the CLI. \n",
              "\n",
              "</pre>\n"
            ],
            "text/plain": [
              "\n",
              "\u001b[38;2;5;245;141m✓\u001b[0m Tests finished 🎉! Run \u001b[1;32m'deepeval login'\u001b[0m to save and analyze evaluation results on Confident AI.\n",
              " \n",
              "✨👀 Looking for a place for your LLM test data to live 🏡❤️ ? Use \u001b[38;2;106;0;255mConfident AI\u001b[0m to get & share testing reports, \n",
              "experiment with models/prompts, and catch regressions for your LLM system. Just run \u001b[36m'deepeval login'\u001b[0m in the CLI. \n",
              "\n"
            ]
          },
          "metadata": {},
          "output_type": "display_data"
        },
        {
          "name": "stdout",
          "output_type": "stream",
          "text": [
            "\n",
            "==== Label: test_results ====\n",
            "Input:  Customer Relationship Management dataset with features like acquisition channel, retention, churn, periods active, etc.\n",
            "Output: The dataset provides a comprehensive view of customer interactions and financial metrics within a CRM framework. Notably, the 'Current Customer (Y/N)' column indicates a significant churn rate, with many customers no longer active. The 'Revenue, Total' and 'Expected CLV' columns show a wide variance...\n",
            "Insightful (GEval)       : 0.90  |  The output provides deeper insights by analyzing churn rates, customer value profiles, and acquisition strategies, which are not immediately obvious from the input. It connects patterns between acquisition channels, customer demographics, and retention likelihood, revealing relationships not directly mentioned in the input. The output challenges assumptions by highlighting the importance of internal channels and premium status in revenue contribution, offering a unique perspective on CRM strategies.\n",
            "Novelty (GEval)          : 0.58  |  The output provides a detailed analysis of the dataset, highlighting the importance of acquisition channels, customer demographics, and retention strategies. However, it largely reiterates common CRM insights without offering novel perspectives or surprising information that would be unexpected to a domain expert.\n",
            "Depth (GEval)            : 0.89  |  Both Input and Actual Output demonstrate a deep understanding of CRM terminology, such as 'acquisition channel' and 'churn'. The Actual Output aligns with established CRM practices by discussing customer segmentation and retention strategies. It provides detailed examples, like the correlation between 'Premium (Y/N)' status and revenue, reflecting domain knowledge. The logical structure is coherent, effectively conveying complex CRM concepts.\n",
            "\n",
            "==== Label: confident_link ====\n",
            "⚠️  No results for this label.\n",
            "\n"
          ]
        }
      ],
      "source": [
        "from deepeval import evaluate\n",
        "\n",
        "results_sys = evaluate(\n",
        "    test_cases=[test_case_sys],\n",
        "    metrics=[insightful, novelty, domain_relevance],\n",
        ")\n",
        "\n",
        "# ── pretty‑print ───────────────────────────────\n",
        "for label, test_case_list in results_sys:\n",
        "    print(f\"\\n==== Label: {label} ====\")\n",
        "\n",
        "    if test_case_list is None:\n",
        "        print(\"⚠️  No results for this label.\\n\")\n",
        "        continue\n",
        "\n",
        "    for test_case in test_case_list:\n",
        "        print(f\"Input:  {test_case.input}\")\n",
        "        print(f\"Output: {test_case.actual_output[:300]}...\")\n",
        "\n",
        "        for metric in test_case.metrics_data:\n",
        "            print(f\"{metric.name:<25}: {metric.score:.2f}  |  {metric.reason}\")\n",
        "\n",
        "\n",
        "\n"
      ]
    },
    {
      "cell_type": "code",
      "execution_count": 27,
      "metadata": {},
      "outputs": [
        {
          "data": {
            "text/html": [
              "<pre style=\"white-space:pre;overflow-x:auto;line-height:normal;font-family:Menlo,'DejaVu Sans Mono',consolas,'Courier New',monospace\">✨ You're running DeepEval's latest <span style=\"color: #6a00ff; text-decoration-color: #6a00ff\">Insightful </span><span style=\"color: #6a00ff; text-decoration-color: #6a00ff; font-weight: bold\">(</span><span style=\"color: #6a00ff; text-decoration-color: #6a00ff\">GEval</span><span style=\"color: #6a00ff; text-decoration-color: #6a00ff; font-weight: bold\">)</span><span style=\"color: #6a00ff; text-decoration-color: #6a00ff\"> Metric</span>! <span style=\"color: #374151; text-decoration-color: #374151; font-weight: bold\">(</span><span style=\"color: #374151; text-decoration-color: #374151\">using gpt-4o, </span><span style=\"color: #374151; text-decoration-color: #374151\">strict</span><span style=\"color: #374151; text-decoration-color: #374151\">=</span><span style=\"color: #374151; text-decoration-color: #374151; font-style: italic\">False</span><span style=\"color: #374151; text-decoration-color: #374151\">, </span><span style=\"color: #374151; text-decoration-color: #374151\">async_mode</span><span style=\"color: #374151; text-decoration-color: #374151\">=</span><span style=\"color: #374151; text-decoration-color: #374151; font-style: italic\">True</span><span style=\"color: #374151; text-decoration-color: #374151; font-weight: bold\">)</span><span style=\"color: #374151; text-decoration-color: #374151\">...</span>\n",
              "</pre>\n"
            ],
            "text/plain": [
              "✨ You're running DeepEval's latest \u001b[38;2;106;0;255mInsightful \u001b[0m\u001b[1;38;2;106;0;255m(\u001b[0m\u001b[38;2;106;0;255mGEval\u001b[0m\u001b[1;38;2;106;0;255m)\u001b[0m\u001b[38;2;106;0;255m Metric\u001b[0m! \u001b[1;38;2;55;65;81m(\u001b[0m\u001b[38;2;55;65;81musing gpt-4o, \u001b[0m\u001b[38;2;55;65;81mstrict\u001b[0m\u001b[38;2;55;65;81m=\u001b[0m\u001b[3;38;2;55;65;81mFalse\u001b[0m\u001b[38;2;55;65;81m, \u001b[0m\u001b[38;2;55;65;81masync_mode\u001b[0m\u001b[38;2;55;65;81m=\u001b[0m\u001b[3;38;2;55;65;81mTrue\u001b[0m\u001b[1;38;2;55;65;81m)\u001b[0m\u001b[38;2;55;65;81m...\u001b[0m\n"
            ]
          },
          "metadata": {},
          "output_type": "display_data"
        },
        {
          "data": {
            "text/html": [
              "<pre style=\"white-space:pre;overflow-x:auto;line-height:normal;font-family:Menlo,'DejaVu Sans Mono',consolas,'Courier New',monospace\">✨ You're running DeepEval's latest <span style=\"color: #6a00ff; text-decoration-color: #6a00ff\">Novelty </span><span style=\"color: #6a00ff; text-decoration-color: #6a00ff; font-weight: bold\">(</span><span style=\"color: #6a00ff; text-decoration-color: #6a00ff\">GEval</span><span style=\"color: #6a00ff; text-decoration-color: #6a00ff; font-weight: bold\">)</span><span style=\"color: #6a00ff; text-decoration-color: #6a00ff\"> Metric</span>! <span style=\"color: #374151; text-decoration-color: #374151; font-weight: bold\">(</span><span style=\"color: #374151; text-decoration-color: #374151\">using gpt-4o, </span><span style=\"color: #374151; text-decoration-color: #374151\">strict</span><span style=\"color: #374151; text-decoration-color: #374151\">=</span><span style=\"color: #374151; text-decoration-color: #374151; font-style: italic\">False</span><span style=\"color: #374151; text-decoration-color: #374151\">, </span><span style=\"color: #374151; text-decoration-color: #374151\">async_mode</span><span style=\"color: #374151; text-decoration-color: #374151\">=</span><span style=\"color: #374151; text-decoration-color: #374151; font-style: italic\">True</span><span style=\"color: #374151; text-decoration-color: #374151; font-weight: bold\">)</span><span style=\"color: #374151; text-decoration-color: #374151\">...</span>\n",
              "</pre>\n"
            ],
            "text/plain": [
              "✨ You're running DeepEval's latest \u001b[38;2;106;0;255mNovelty \u001b[0m\u001b[1;38;2;106;0;255m(\u001b[0m\u001b[38;2;106;0;255mGEval\u001b[0m\u001b[1;38;2;106;0;255m)\u001b[0m\u001b[38;2;106;0;255m Metric\u001b[0m! \u001b[1;38;2;55;65;81m(\u001b[0m\u001b[38;2;55;65;81musing gpt-4o, \u001b[0m\u001b[38;2;55;65;81mstrict\u001b[0m\u001b[38;2;55;65;81m=\u001b[0m\u001b[3;38;2;55;65;81mFalse\u001b[0m\u001b[38;2;55;65;81m, \u001b[0m\u001b[38;2;55;65;81masync_mode\u001b[0m\u001b[38;2;55;65;81m=\u001b[0m\u001b[3;38;2;55;65;81mTrue\u001b[0m\u001b[1;38;2;55;65;81m)\u001b[0m\u001b[38;2;55;65;81m...\u001b[0m\n"
            ]
          },
          "metadata": {},
          "output_type": "display_data"
        },
        {
          "data": {
            "text/html": [
              "<pre style=\"white-space:pre;overflow-x:auto;line-height:normal;font-family:Menlo,'DejaVu Sans Mono',consolas,'Courier New',monospace\">✨ You're running DeepEval's latest <span style=\"color: #6a00ff; text-decoration-color: #6a00ff\">Depth </span><span style=\"color: #6a00ff; text-decoration-color: #6a00ff; font-weight: bold\">(</span><span style=\"color: #6a00ff; text-decoration-color: #6a00ff\">GEval</span><span style=\"color: #6a00ff; text-decoration-color: #6a00ff; font-weight: bold\">)</span><span style=\"color: #6a00ff; text-decoration-color: #6a00ff\"> Metric</span>! <span style=\"color: #374151; text-decoration-color: #374151; font-weight: bold\">(</span><span style=\"color: #374151; text-decoration-color: #374151\">using gpt-4o, </span><span style=\"color: #374151; text-decoration-color: #374151\">strict</span><span style=\"color: #374151; text-decoration-color: #374151\">=</span><span style=\"color: #374151; text-decoration-color: #374151; font-style: italic\">False</span><span style=\"color: #374151; text-decoration-color: #374151\">, </span><span style=\"color: #374151; text-decoration-color: #374151\">async_mode</span><span style=\"color: #374151; text-decoration-color: #374151\">=</span><span style=\"color: #374151; text-decoration-color: #374151; font-style: italic\">True</span><span style=\"color: #374151; text-decoration-color: #374151; font-weight: bold\">)</span><span style=\"color: #374151; text-decoration-color: #374151\">...</span>\n",
              "</pre>\n"
            ],
            "text/plain": [
              "✨ You're running DeepEval's latest \u001b[38;2;106;0;255mDepth \u001b[0m\u001b[1;38;2;106;0;255m(\u001b[0m\u001b[38;2;106;0;255mGEval\u001b[0m\u001b[1;38;2;106;0;255m)\u001b[0m\u001b[38;2;106;0;255m Metric\u001b[0m! \u001b[1;38;2;55;65;81m(\u001b[0m\u001b[38;2;55;65;81musing gpt-4o, \u001b[0m\u001b[38;2;55;65;81mstrict\u001b[0m\u001b[38;2;55;65;81m=\u001b[0m\u001b[3;38;2;55;65;81mFalse\u001b[0m\u001b[38;2;55;65;81m, \u001b[0m\u001b[38;2;55;65;81masync_mode\u001b[0m\u001b[38;2;55;65;81m=\u001b[0m\u001b[3;38;2;55;65;81mTrue\u001b[0m\u001b[1;38;2;55;65;81m)\u001b[0m\u001b[38;2;55;65;81m...\u001b[0m\n"
            ]
          },
          "metadata": {},
          "output_type": "display_data"
        },
        {
          "name": "stderr",
          "output_type": "stream",
          "text": [
            "Evaluating 1 test case(s) in parallel: |██████████|100% (1/1) [Time Taken: 00:04,  4.86s/test case]"
          ]
        },
        {
          "name": "stdout",
          "output_type": "stream",
          "text": [
            "\n",
            "======================================================================\n",
            "\n",
            "Metrics Summary\n",
            "\n",
            "  - ✅ Insightful (GEval) (score: 0.8361800300238462, threshold: 0.5, strict: False, evaluation model: gpt-4o, reason: The Actual Output identifies deeper insights such as potential issues with customer retention strategies, reliance on external channels for acquisition, and the opportunity for growth in premium customers, which are not immediately apparent from the Input., error: None)\n",
            "  - ❌ Novelty (GEval) (score: 0.4345197488302194, threshold: 0.5, strict: False, evaluation model: gpt-4o, reason: The output provides some insights like the reliance on external channels and potential growth in premium customers, but these are not particularly novel or surprising to a domain expert. The analysis lacks depth and does not introduce new concepts or findings beyond a generic interpretation of the dataset., error: None)\n",
            "  - ✅ Depth (GEval) (score: 0.8143466290986604, threshold: 0.5, strict: False, evaluation model: gpt-4o, reason: The output accurately discusses customer retention, acquisition channels, and customer demographics, aligning with the CRM dataset features. It identifies issues with retention and acquisition strategies, reflecting domain-specific insights. However, it lacks detailed analysis on churn and periods active, which are also key features in the input., error: None)\n",
            "\n",
            "For test case:\n",
            "\n",
            "  - input: Customer Relationship Management dataset with features like acquisition channel, retention, churn, periods active, etc.\n",
            "  - actual output: The majority of customers have terminated their contracts, indicating potential issues with customer retention strategies. Most customers are acquired through external channels, suggesting a reliance on external marketing or partnerships for customer acquisition. The majority of customers are small companies, and a significant portion are relatively new (0-5 years old), indicating a potential focus on emerging businesses. The average expected customer lifetime value (CLV) is significantly higher than the average revenue, suggesting high future revenue potential from existing customers. Customers tend to have a balanced mix of maker and advanced contracts, with a slight preference for maker contracts. There is a very low number of premium customers, indicating a potential area for growth by converting more customers to premium status.\n",
            "  - expected output: None\n",
            "  - context: None\n",
            "  - retrieval context: None\n",
            "\n",
            "======================================================================\n",
            "\n",
            "Overall Metric Pass Rates\n",
            "\n",
            "Insightful (GEval): 100.00% pass rate\n",
            "Novelty (GEval): 0.00% pass rate\n",
            "Depth (GEval): 100.00% pass rate\n",
            "\n",
            "======================================================================\n",
            "\n"
          ]
        },
        {
          "name": "stderr",
          "output_type": "stream",
          "text": [
            "\n"
          ]
        },
        {
          "data": {
            "text/html": [
              "<pre style=\"white-space:pre;overflow-x:auto;line-height:normal;font-family:Menlo,'DejaVu Sans Mono',consolas,'Courier New',monospace\">\n",
              "<span style=\"color: #05f58d; text-decoration-color: #05f58d\">✓</span> Tests finished 🎉! Run <span style=\"color: #008000; text-decoration-color: #008000; font-weight: bold\">'deepeval login'</span> to save and analyze evaluation results on Confident AI.\n",
              " \n",
              "✨👀 Looking for a place for your LLM test data to live 🏡❤️ ? Use <span style=\"color: #6a00ff; text-decoration-color: #6a00ff\">Confident AI</span> to get &amp; share testing reports, \n",
              "experiment with models/prompts, and catch regressions for your LLM system. Just run <span style=\"color: #008080; text-decoration-color: #008080\">'deepeval login'</span> in the CLI. \n",
              "\n",
              "</pre>\n"
            ],
            "text/plain": [
              "\n",
              "\u001b[38;2;5;245;141m✓\u001b[0m Tests finished 🎉! Run \u001b[1;32m'deepeval login'\u001b[0m to save and analyze evaluation results on Confident AI.\n",
              " \n",
              "✨👀 Looking for a place for your LLM test data to live 🏡❤️ ? Use \u001b[38;2;106;0;255mConfident AI\u001b[0m to get & share testing reports, \n",
              "experiment with models/prompts, and catch regressions for your LLM system. Just run \u001b[36m'deepeval login'\u001b[0m in the CLI. \n",
              "\n"
            ]
          },
          "metadata": {},
          "output_type": "display_data"
        },
        {
          "name": "stdout",
          "output_type": "stream",
          "text": [
            "\n",
            "==== Label: test_results ====\n",
            "Input:  Customer Relationship Management dataset with features like acquisition channel, retention, churn, periods active, etc.\n",
            "Output: The majority of customers have terminated their contracts, indicating potential issues with customer retention strategies. Most customers are acquired through external channels, suggesting a reliance on external marketing or partnerships for customer acquisition. The majority of customers are small ...\n",
            "Insightful (GEval)       : 0.84  |  The Actual Output identifies deeper insights such as potential issues with customer retention strategies, reliance on external channels for acquisition, and the opportunity for growth in premium customers, which are not immediately apparent from the Input.\n",
            "Novelty (GEval)          : 0.43  |  The output provides some insights like the reliance on external channels and potential growth in premium customers, but these are not particularly novel or surprising to a domain expert. The analysis lacks depth and does not introduce new concepts or findings beyond a generic interpretation of the dataset.\n",
            "Depth (GEval)            : 0.81  |  The output accurately discusses customer retention, acquisition channels, and customer demographics, aligning with the CRM dataset features. It identifies issues with retention and acquisition strategies, reflecting domain-specific insights. However, it lacks detailed analysis on churn and periods active, which are also key features in the input.\n",
            "\n",
            "==== Label: confident_link ====\n",
            "⚠️  No results for this label.\n",
            "\n"
          ]
        }
      ],
      "source": [
        "results_gpt4o = evaluate(\n",
        "    test_cases=[test_case_gpt4o],\n",
        "    metrics=[insightful, novelty, domain_relevance],\n",
        ")\n",
        "\n",
        "# ── pretty‑print ───────────────────────────────\n",
        "for label, test_case_list in results_gpt4o:\n",
        "    print(f\"\\n==== Label: {label} ====\")\n",
        "\n",
        "    if test_case_list is None:\n",
        "        print(\"⚠️  No results for this label.\\n\")\n",
        "        continue\n",
        "\n",
        "    for test_case in test_case_list:\n",
        "        print(f\"Input:  {test_case.input}\")\n",
        "        print(f\"Output: {test_case.actual_output[:300]}...\")\n",
        "\n",
        "        for metric in test_case.metrics_data:\n",
        "            print(f\"{metric.name:<25}: {metric.score:.2f}  |  {metric.reason}\")"
      ]
    },
    {
      "cell_type": "code",
      "execution_count": null,
      "metadata": {},
      "outputs": [],
      "source": []
    }
  ],
  "metadata": {
    "colab": {
      "provenance": []
    },
    "kernelspec": {
      "display_name": "Python 3",
      "name": "python3"
    },
    "language_info": {
      "codemirror_mode": {
        "name": "ipython",
        "version": 3
      },
      "file_extension": ".py",
      "mimetype": "text/x-python",
      "name": "python",
      "nbconvert_exporter": "python",
      "pygments_lexer": "ipython3",
      "version": "3.9.6"
    }
  },
  "nbformat": 4,
  "nbformat_minor": 0
}
